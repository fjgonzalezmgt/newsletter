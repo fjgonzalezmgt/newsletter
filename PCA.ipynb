{
 "cells": [
  {
   "cell_type": "markdown",
   "id": "26ce463e",
   "metadata": {},
   "source": [
    "Este script de Python realiza un Análisis de Componentes Principales (PCA) en un conjunto de datos almacenado en un archivo CSV llamado \"plastic_data.csv\". El objetivo del análisis es reducir la dimensionalidad del conjunto de datos, identificando y visualizando la varianza explicada por cada componente principal.\n",
    "\n",
    "El código se puede dividir en las siguientes partes:\n",
    "\n",
    "1. Importación de librerías:\n",
    "   Se importan las librerías necesarias, como pandas, numpy, StandardScaler, PCA y matplotlib.\n",
    "\n",
    "2. Lectura del archivo CSV:\n",
    "   Se lee el archivo \"plastic_data.csv\" y se guarda en el DataFrame 'df'. El índice de la columna 0 se utiliza como índice del DataFrame.\n",
    "\n",
    "3. Escalado de datos:\n",
    "   Se crea una instancia de StandardScaler y se aplica a los datos para escalarlos.\n",
    "\n",
    "4. Aplicación de PCA:\n",
    "   Se crea una instancia de PCA con un número determinado de componentes (3 en este caso) y se aplica a los datos escalados. Los componentes principales resultantes se almacenan en un nuevo DataFrame llamado 'principal_df'.\n",
    "\n",
    "5. Visualización de la varianza explicada:\n",
    "   Se crea un gráfico de barras que muestra la varianza explicada por cada uno de los componentes principales. También se imprime la varianza explicada y los componentes principales en sí.\n",
    "\n",
    "6. Gráfico de la varianza acumulativa explicada:\n",
    "   Se calcula y grafica la varianza acumulativa explicada por los componentes principales. Se añade una línea horizontal en el 80% de la varianza acumulativa para identificar el número óptimo de componentes.\n",
    "\n",
    "7. Identificación de las variables originales en cada componente principal:\n",
    "   Se crea un DataFrame llamado 'components_df' que contiene las contribuciones de cada variable original en cada componente principal.\n",
    "\n",
    "8. Impresión de las contribuciones de las variables originales:\n",
    "   Se imprime la tabla que muestra las contribuciones de cada variable original en cada componente principal."
   ]
  },
  {
   "cell_type": "code",
   "execution_count": 1,
   "id": "bd496c1b",
   "metadata": {},
   "outputs": [],
   "source": [
    "import pandas as pd\n",
    "import numpy as np\n",
    "from sklearn.preprocessing import StandardScaler\n",
    "from sklearn.decomposition import PCA\n",
    "import matplotlib.pyplot as plt"
   ]
  },
  {
   "cell_type": "code",
   "execution_count": 2,
   "id": "0e292538",
   "metadata": {},
   "outputs": [
    {
     "data": {
      "text/html": [
       "<div>\n",
       "<style scoped>\n",
       "    .dataframe tbody tr th:only-of-type {\n",
       "        vertical-align: middle;\n",
       "    }\n",
       "\n",
       "    .dataframe tbody tr th {\n",
       "        vertical-align: top;\n",
       "    }\n",
       "\n",
       "    .dataframe thead th {\n",
       "        text-align: right;\n",
       "    }\n",
       "</style>\n",
       "<table border=\"1\" class=\"dataframe\">\n",
       "  <thead>\n",
       "    <tr style=\"text-align: right;\">\n",
       "      <th></th>\n",
       "      <th>temperatura</th>\n",
       "      <th>presion</th>\n",
       "      <th>velocidad_extrusion</th>\n",
       "      <th>humedad</th>\n",
       "      <th>tiempo_enfriamiento</th>\n",
       "    </tr>\n",
       "    <tr>\n",
       "      <th>id</th>\n",
       "      <th></th>\n",
       "      <th></th>\n",
       "      <th></th>\n",
       "      <th></th>\n",
       "      <th></th>\n",
       "    </tr>\n",
       "  </thead>\n",
       "  <tbody>\n",
       "    <tr>\n",
       "      <th>1</th>\n",
       "      <td>75</td>\n",
       "      <td>120</td>\n",
       "      <td>2.5</td>\n",
       "      <td>5.0</td>\n",
       "      <td>10</td>\n",
       "    </tr>\n",
       "    <tr>\n",
       "      <th>2</th>\n",
       "      <td>80</td>\n",
       "      <td>115</td>\n",
       "      <td>2.8</td>\n",
       "      <td>4.5</td>\n",
       "      <td>11</td>\n",
       "    </tr>\n",
       "    <tr>\n",
       "      <th>3</th>\n",
       "      <td>85</td>\n",
       "      <td>125</td>\n",
       "      <td>2.7</td>\n",
       "      <td>5.5</td>\n",
       "      <td>9</td>\n",
       "    </tr>\n",
       "    <tr>\n",
       "      <th>4</th>\n",
       "      <td>82</td>\n",
       "      <td>110</td>\n",
       "      <td>2.6</td>\n",
       "      <td>4.8</td>\n",
       "      <td>10</td>\n",
       "    </tr>\n",
       "    <tr>\n",
       "      <th>5</th>\n",
       "      <td>78</td>\n",
       "      <td>130</td>\n",
       "      <td>2.4</td>\n",
       "      <td>5.2</td>\n",
       "      <td>12</td>\n",
       "    </tr>\n",
       "    <tr>\n",
       "      <th>6</th>\n",
       "      <td>76</td>\n",
       "      <td>120</td>\n",
       "      <td>2.9</td>\n",
       "      <td>4.9</td>\n",
       "      <td>11</td>\n",
       "    </tr>\n",
       "    <tr>\n",
       "      <th>7</th>\n",
       "      <td>81</td>\n",
       "      <td>115</td>\n",
       "      <td>2.3</td>\n",
       "      <td>5.1</td>\n",
       "      <td>9</td>\n",
       "    </tr>\n",
       "    <tr>\n",
       "      <th>8</th>\n",
       "      <td>83</td>\n",
       "      <td>126</td>\n",
       "      <td>2.8</td>\n",
       "      <td>4.7</td>\n",
       "      <td>10</td>\n",
       "    </tr>\n",
       "    <tr>\n",
       "      <th>9</th>\n",
       "      <td>79</td>\n",
       "      <td>122</td>\n",
       "      <td>2.7</td>\n",
       "      <td>5.3</td>\n",
       "      <td>8</td>\n",
       "    </tr>\n",
       "    <tr>\n",
       "      <th>10</th>\n",
       "      <td>77</td>\n",
       "      <td>118</td>\n",
       "      <td>2.6</td>\n",
       "      <td>5.0</td>\n",
       "      <td>10</td>\n",
       "    </tr>\n",
       "  </tbody>\n",
       "</table>\n",
       "</div>"
      ],
      "text/plain": [
       "    temperatura   presion   velocidad_extrusion   humedad  \\\n",
       "id                                                          \n",
       "1            75       120                   2.5       5.0   \n",
       "2            80       115                   2.8       4.5   \n",
       "3            85       125                   2.7       5.5   \n",
       "4            82       110                   2.6       4.8   \n",
       "5            78       130                   2.4       5.2   \n",
       "6            76       120                   2.9       4.9   \n",
       "7            81       115                   2.3       5.1   \n",
       "8            83       126                   2.8       4.7   \n",
       "9            79       122                   2.7       5.3   \n",
       "10           77       118                   2.6       5.0   \n",
       "\n",
       "     tiempo_enfriamiento  \n",
       "id                        \n",
       "1                     10  \n",
       "2                     11  \n",
       "3                      9  \n",
       "4                     10  \n",
       "5                     12  \n",
       "6                     11  \n",
       "7                      9  \n",
       "8                     10  \n",
       "9                      8  \n",
       "10                    10  "
      ]
     },
     "execution_count": 2,
     "metadata": {},
     "output_type": "execute_result"
    }
   ],
   "source": [
    "df = pd.read_csv(\"plastic_data.csv\",index_col=0)\n",
    "df"
   ]
  },
  {
   "cell_type": "markdown",
   "id": "58378ed8",
   "metadata": {},
   "source": [
    "En este ejemplo, cada fila representa una muestra y las columnas corresponden a las siguientes variables:\n",
    "\n",
    "id: Identificador único de la muestra.\n",
    "temperatura (°C): Temperatura del proceso de extrusión.\n",
    "presion (kPa): Presión en el proceso de extrusión.\n",
    "velocidad_extrusion (m/s): Velocidad de extrusión del plástico.\n",
    "humedad (%): Humedad ambiente en la planta de producción.\n",
    "tiempo_enfriamiento (s): Tiempo que tarda el plástico en enfriarse."
   ]
  },
  {
   "cell_type": "code",
   "execution_count": 3,
   "id": "34f1ab35",
   "metadata": {},
   "outputs": [],
   "source": [
    "scaler = StandardScaler()\n",
    "scaled_data = scaler.fit_transform(df)"
   ]
  },
  {
   "cell_type": "code",
   "execution_count": 4,
   "id": "9a03ce41",
   "metadata": {},
   "outputs": [
    {
     "name": "stdout",
     "output_type": "stream",
     "text": [
      "Varianza Explicada: [0.35145976 0.2648177  0.2176865  0.13049668 0.03553936]\n"
     ]
    }
   ],
   "source": [
    "#primero descompondremos los datos, que tienen 5 variables en 5 componentes para ayudarnos a determinar el minimo numero de \n",
    "#componentes principales\n",
    "n_components=5\n",
    "pca = PCA(n_components=n_components)\n",
    "principal_components = pca.fit_transform(scaled_data)\n",
    "components=[]\n",
    "n=1\n",
    "while n<=n_components:\n",
    "    components.append(\"PC\"+str(n))\n",
    "    n=n+1\n",
    "principal_df = pd.DataFrame(data=principal_components, columns=components)\n",
    "explained_variance = pca.explained_variance_ratio_\n",
    "print(\"Varianza Explicada:\", explained_variance)"
   ]
  },
  {
   "cell_type": "code",
   "execution_count": 5,
   "id": "fb0a3e06",
   "metadata": {},
   "outputs": [
    {
     "data": {
      "image/png": "[encoded data removed]",
      "text/plain": [
       "<Figure size 640x480 with 1 Axes>"
      ]
     },
     "metadata": {},
     "output_type": "display_data"
    }
   ],
   "source": [
    "plt.bar(components, explained_variance)\n",
    "plt.xlabel(\"Componentes Principales\")\n",
    "plt.ylabel(\"Varianza Explicada\")\n",
    "plt.title(\"Varianza Explicada por Componentes Principales\")\n",
    "plt.show()\n",
    "\n",
    "\n"
   ]
  },
  {
   "cell_type": "code",
   "execution_count": 6,
   "id": "06c14331",
   "metadata": {},
   "outputs": [
    {
     "data": {
      "image/png": "[encoded data removed]",
      "text/plain": [
       "<Figure size 640x480 with 1 Axes>"
      ]
     },
     "metadata": {},
     "output_type": "display_data"
    }
   ],
   "source": [
    "cumulative_explained_variance = np.cumsum(pca.explained_variance_ratio_)\n",
    "n_components = len(pca.explained_variance_ratio_)\n",
    "plt.plot(range(1, n_components + 1), cumulative_explained_variance, marker=\"o\", linestyle=\"--\")\n",
    "plt.axhline(y=0.80, color=\"r\", linestyle=\"-\")\n",
    "plt.xlabel(\"Número de Componentes\")\n",
    "plt.ylabel(\"Varianza Explicada Acumulativa\")\n",
    "plt.title(\"Suma Acumulativa de la Varianza Explicada por los Componentes Principales\")\n",
    "plt.show()"
   ]
  },
  {
   "cell_type": "code",
   "execution_count": 7,
   "id": "18e03666",
   "metadata": {},
   "outputs": [
    {
     "name": "stdout",
     "output_type": "stream",
     "text": [
      "Varianza Explicada: [0.35145976 0.2648177  0.2176865 ]\n"
     ]
    }
   ],
   "source": [
    "#en el gráfico anterior, podemos ver que con 3 compoentes capturamos el 80% de la explicación de la varianza, por lo que\n",
    "#corremos nuevamente el modelo, solo que esta vez seleccionamos 3 componentes, y éste sería nuestro modelo de PCA final\n",
    "n_components=3\n",
    "pca = PCA(n_components=n_components)\n",
    "principal_components = pca.fit_transform(scaled_data)\n",
    "components=[]\n",
    "n=1\n",
    "while n<=n_components:\n",
    "    components.append(\"PC\"+str(n))\n",
    "    n=n+1\n",
    "principal_df = pd.DataFrame(data=principal_components, columns=components)\n",
    "explained_variance = pca.explained_variance_ratio_\n",
    "print(\"Varianza Explicada:\", explained_variance)"
   ]
  },
  {
   "cell_type": "code",
   "execution_count": 8,
   "id": "1b34b022",
   "metadata": {},
   "outputs": [],
   "source": [
    "variable_names = df.columns\n",
    "components_df = pd.DataFrame(pca.components_, columns=variable_names, index=components)"
   ]
  },
  {
   "cell_type": "code",
   "execution_count": 9,
   "id": "92ceddaf",
   "metadata": {},
   "outputs": [
    {
     "name": "stdout",
     "output_type": "stream",
     "text": [
      "Contribuciones de las variables originales a los componentes principales:\n",
      "\n"
     ]
    },
    {
     "data": {
      "text/html": [
       "<div>\n",
       "<style scoped>\n",
       "    .dataframe tbody tr th:only-of-type {\n",
       "        vertical-align: middle;\n",
       "    }\n",
       "\n",
       "    .dataframe tbody tr th {\n",
       "        vertical-align: top;\n",
       "    }\n",
       "\n",
       "    .dataframe thead th {\n",
       "        text-align: right;\n",
       "    }\n",
       "</style>\n",
       "<table border=\"1\" class=\"dataframe\">\n",
       "  <thead>\n",
       "    <tr style=\"text-align: right;\">\n",
       "      <th></th>\n",
       "      <th>temperatura</th>\n",
       "      <th>presion</th>\n",
       "      <th>velocidad_extrusion</th>\n",
       "      <th>humedad</th>\n",
       "      <th>tiempo_enfriamiento</th>\n",
       "    </tr>\n",
       "  </thead>\n",
       "  <tbody>\n",
       "    <tr>\n",
       "      <th>PC1</th>\n",
       "      <td>0.317570</td>\n",
       "      <td>0.285263</td>\n",
       "      <td>-0.303279</td>\n",
       "      <td>0.678848</td>\n",
       "      <td>-0.514745</td>\n",
       "    </tr>\n",
       "    <tr>\n",
       "      <th>PC2</th>\n",
       "      <td>-0.522874</td>\n",
       "      <td>0.576283</td>\n",
       "      <td>-0.289159</td>\n",
       "      <td>0.250844</td>\n",
       "      <td>0.497962</td>\n",
       "    </tr>\n",
       "    <tr>\n",
       "      <th>PC3</th>\n",
       "      <td>-0.363029</td>\n",
       "      <td>-0.584082</td>\n",
       "      <td>-0.715617</td>\n",
       "      <td>0.002873</td>\n",
       "      <td>-0.122238</td>\n",
       "    </tr>\n",
       "  </tbody>\n",
       "</table>\n",
       "</div>"
      ],
      "text/plain": [
       "     temperatura   presion   velocidad_extrusion   humedad  \\\n",
       "PC1     0.317570  0.285263             -0.303279  0.678848   \n",
       "PC2    -0.522874  0.576283             -0.289159  0.250844   \n",
       "PC3    -0.363029 -0.584082             -0.715617  0.002873   \n",
       "\n",
       "      tiempo_enfriamiento  \n",
       "PC1             -0.514745  \n",
       "PC2              0.497962  \n",
       "PC3             -0.122238  "
      ]
     },
     "execution_count": 9,
     "metadata": {},
     "output_type": "execute_result"
    }
   ],
   "source": [
    "print(\"Contribuciones de las variables originales a los componentes principales:\\n\")\n",
    "components_df"
   ]
  },
  {
   "cell_type": "markdown",
   "id": "23a1969b",
   "metadata": {},
   "source": [
    "Para interpretar estos resultados, vamos a analizar las contribuciones de cada variable original en cada componente principal. Los valores más altos en magnitud indican una mayor contribución de esa variable a la formación del componente principal.\n",
    "\n",
    "**PC1:**\n",
    "- La humedad (0.6788) tiene la mayor contribución positiva, seguida por la temperatura (0.3176) y la presión (0.2853).\n",
    "- La velocidad de extrusión (-0.3033) y el tiempo de enfriamiento (-0.5147) tienen contribuciones negativas.\n",
    "- Este componente principal podría representar la relación entre la humedad y el equilibrio entre la temperatura, la presión, la velocidad de extrusión y el tiempo de enfriamiento.\n",
    "\n",
    "**PC2:**\n",
    "- La presión (0.5763) y el tiempo de enfriamiento (0.4979) tienen las mayores contribuciones positivas, seguida por la humedad (0.2508).\n",
    "- La temperatura (-0.5229) y la velocidad de extrusión (-0.2892) tienen contribuciones negativas.\n",
    "- Este componente principal podría representar la relación entre la presión y el tiempo de enfriamiento frente a la temperatura y la velocidad de extrusión.\n",
    "\n",
    "**PC3:**\n",
    "- La humedad (0.0029) tiene una contribución positiva muy pequeña.\n",
    "- La temperatura (-0.3630), la presión (-0.5841), la velocidad de extrusión (-0.7156) y el tiempo de enfriamiento (-0.1222) tienen contribuciones negativas.\n",
    "- Este componente principal podría representar cómo la velocidad de extrusión afecta negativamente a las otras variables, con la presión y la temperatura también contribuyendo negativamente.\n",
    "\n",
    "En resumen, estos componentes principales revelan información sobre las relaciones entre las variables originales y cómo interactúan entre sí. Es importante tener en cuenta que la interpretación de los componentes principales puede ser subjetiva y depende del conocimiento del dominio y del contexto del problema."
   ]
  },
  {
   "cell_type": "code",
   "execution_count": null,
   "id": "4189cd54",
   "metadata": {},
   "outputs": [],
   "source": []
  }
 ],
 "metadata": {
  "kernelspec": {
   "display_name": "python_3_11",
   "language": "python",
   "name": "python_3_11"
  },
  "language_info": {
   "codemirror_mode": {
    "name": "ipython",
    "version": 3
   },
   "file_extension": ".py",
   "mimetype": "text/x-python",
   "name": "python",
   "nbconvert_exporter": "python",
   "pygments_lexer": "ipython3",
   "version": "3.11.3"
  }
 },
 "nbformat": 4,
 "nbformat_minor": 5
}
